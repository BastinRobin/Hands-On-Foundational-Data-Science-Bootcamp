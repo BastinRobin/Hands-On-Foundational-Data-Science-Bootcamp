{
  "nbformat": 4,
  "nbformat_minor": 0,
  "metadata": {
    "colab": {
      "name": "Bootcamp_day1.ipynb",
      "provenance": []
    },
    "kernelspec": {
      "name": "python3",
      "display_name": "Python 3"
    }
  },
  "cells": [
    {
      "cell_type": "code",
      "metadata": {
        "id": "pT-2cBhJEnuM",
        "colab_type": "code",
        "colab": {}
      },
      "source": [
        "n = 10"
      ],
      "execution_count": null,
      "outputs": []
    },
    {
      "cell_type": "code",
      "metadata": {
        "id": "IfK03a99EwKn",
        "colab_type": "code",
        "colab": {
          "base_uri": "https://localhost:8080/",
          "height": 34
        },
        "outputId": "04c786ba-21ad-4ffa-906f-31e421b8916d"
      },
      "source": [
        "print(n)"
      ],
      "execution_count": null,
      "outputs": [
        {
          "output_type": "stream",
          "text": [
            "10\n"
          ],
          "name": "stdout"
        }
      ]
    },
    {
      "cell_type": "code",
      "metadata": {
        "id": "OyIi04nFE06F",
        "colab_type": "code",
        "colab": {
          "base_uri": "https://localhost:8080/",
          "height": 188
        },
        "outputId": "451e819a-667b-4ba3-d252-4c1b31c0c9c9"
      },
      "source": [
        "for i in range(n):\n",
        "  print(i,'x',3, '=', i*2)"
      ],
      "execution_count": null,
      "outputs": [
        {
          "output_type": "stream",
          "text": [
            "0 x 3 = 0\n",
            "1 x 3 = 2\n",
            "2 x 3 = 4\n",
            "3 x 3 = 6\n",
            "4 x 3 = 8\n",
            "5 x 3 = 10\n",
            "6 x 3 = 12\n",
            "7 x 3 = 14\n",
            "8 x 3 = 16\n",
            "9 x 3 = 18\n"
          ],
          "name": "stdout"
        }
      ]
    },
    {
      "cell_type": "code",
      "metadata": {
        "id": "7nZ36GG5E777",
        "colab_type": "code",
        "colab": {}
      },
      "source": [
        "# Lets print first 100 odd number"
      ],
      "execution_count": null,
      "outputs": []
    },
    {
      "cell_type": "code",
      "metadata": {
        "id": "87JSVjS8FT45",
        "colab_type": "code",
        "colab": {
          "base_uri": "https://localhost:8080/",
          "height": 897
        },
        "outputId": "ccd82cd4-233f-43db-af1f-a1b96b2469dc"
      },
      "source": [
        "n = 100\n",
        "for i in range(n):\n",
        "  if i%2!=0:\n",
        "    print(i)"
      ],
      "execution_count": null,
      "outputs": [
        {
          "output_type": "stream",
          "text": [
            "1\n",
            "3\n",
            "5\n",
            "7\n",
            "9\n",
            "11\n",
            "13\n",
            "15\n",
            "17\n",
            "19\n",
            "21\n",
            "23\n",
            "25\n",
            "27\n",
            "29\n",
            "31\n",
            "33\n",
            "35\n",
            "37\n",
            "39\n",
            "41\n",
            "43\n",
            "45\n",
            "47\n",
            "49\n",
            "51\n",
            "53\n",
            "55\n",
            "57\n",
            "59\n",
            "61\n",
            "63\n",
            "65\n",
            "67\n",
            "69\n",
            "71\n",
            "73\n",
            "75\n",
            "77\n",
            "79\n",
            "81\n",
            "83\n",
            "85\n",
            "87\n",
            "89\n",
            "91\n",
            "93\n",
            "95\n",
            "97\n",
            "99\n"
          ],
          "name": "stdout"
        }
      ]
    },
    {
      "cell_type": "code",
      "metadata": {
        "id": "z930Bv90FgtP",
        "colab_type": "code",
        "colab": {
          "base_uri": "https://localhost:8080/",
          "height": 874
        },
        "outputId": "2603dc4d-95f0-40b0-a200-f13a80ce9cd8"
      },
      "source": [
        "n = 100\n",
        "for i in range(n):\n",
        "  if i%2 == 0:\n",
        "    print(i, \"is a even number\")"
      ],
      "execution_count": null,
      "outputs": [
        {
          "output_type": "stream",
          "text": [
            "0 is a even number\n",
            "2 is a even number\n",
            "4 is a even number\n",
            "6 is a even number\n",
            "8 is a even number\n",
            "10 is a even number\n",
            "12 is a even number\n",
            "14 is a even number\n",
            "16 is a even number\n",
            "18 is a even number\n",
            "20 is a even number\n",
            "22 is a even number\n",
            "24 is a even number\n",
            "26 is a even number\n",
            "28 is a even number\n",
            "30 is a even number\n",
            "32 is a even number\n",
            "34 is a even number\n",
            "36 is a even number\n",
            "38 is a even number\n",
            "40 is a even number\n",
            "42 is a even number\n",
            "44 is a even number\n",
            "46 is a even number\n",
            "48 is a even number\n",
            "50 is a even number\n",
            "52 is a even number\n",
            "54 is a even number\n",
            "56 is a even number\n",
            "58 is a even number\n",
            "60 is a even number\n",
            "62 is a even number\n",
            "64 is a even number\n",
            "66 is a even number\n",
            "68 is a even number\n",
            "70 is a even number\n",
            "72 is a even number\n",
            "74 is a even number\n",
            "76 is a even number\n",
            "78 is a even number\n",
            "80 is a even number\n",
            "82 is a even number\n",
            "84 is a even number\n",
            "86 is a even number\n",
            "88 is a even number\n",
            "90 is a even number\n",
            "92 is a even number\n",
            "94 is a even number\n",
            "96 is a even number\n",
            "98 is a even number\n"
          ],
          "name": "stdout"
        }
      ]
    },
    {
      "cell_type": "code",
      "metadata": {
        "id": "io3alJuBFshk",
        "colab_type": "code",
        "colab": {}
      },
      "source": [
        "a = 10"
      ],
      "execution_count": null,
      "outputs": []
    },
    {
      "cell_type": "code",
      "metadata": {
        "id": "nLmFtQPTHNpq",
        "colab_type": "code",
        "colab": {
          "base_uri": "https://localhost:8080/",
          "height": 34
        },
        "outputId": "6b9d8ddf-4332-414b-91cc-6ad3032aa827"
      },
      "source": [
        "type(a)"
      ],
      "execution_count": null,
      "outputs": [
        {
          "output_type": "execute_result",
          "data": {
            "text/plain": [
              "int"
            ]
          },
          "metadata": {
            "tags": []
          },
          "execution_count": 12
        }
      ]
    },
    {
      "cell_type": "code",
      "metadata": {
        "id": "R5ZjtV9hHQ5Y",
        "colab_type": "code",
        "colab": {}
      },
      "source": [
        "b = 1.5"
      ],
      "execution_count": null,
      "outputs": []
    },
    {
      "cell_type": "code",
      "metadata": {
        "id": "ooJ2OA1mHTAG",
        "colab_type": "code",
        "colab": {
          "base_uri": "https://localhost:8080/",
          "height": 34
        },
        "outputId": "5539fcb7-d399-4c02-d445-5fd8005e83ce"
      },
      "source": [
        "type(b)"
      ],
      "execution_count": null,
      "outputs": [
        {
          "output_type": "execute_result",
          "data": {
            "text/plain": [
              "float"
            ]
          },
          "metadata": {
            "tags": []
          },
          "execution_count": 14
        }
      ]
    },
    {
      "cell_type": "code",
      "metadata": {
        "id": "hnQwt9jrHVAu",
        "colab_type": "code",
        "colab": {}
      },
      "source": [
        "c = \"10\""
      ],
      "execution_count": null,
      "outputs": []
    },
    {
      "cell_type": "code",
      "metadata": {
        "id": "ak8StamVHXWW",
        "colab_type": "code",
        "colab": {
          "base_uri": "https://localhost:8080/",
          "height": 34
        },
        "outputId": "32090d69-a927-45cf-9a4c-3bfe6a2d7df4"
      },
      "source": [
        "type(c)"
      ],
      "execution_count": null,
      "outputs": [
        {
          "output_type": "execute_result",
          "data": {
            "text/plain": [
              "str"
            ]
          },
          "metadata": {
            "tags": []
          },
          "execution_count": 16
        }
      ]
    },
    {
      "cell_type": "code",
      "metadata": {
        "id": "LbCF5NHwHdHH",
        "colab_type": "code",
        "colab": {}
      },
      "source": [
        "d = '10'"
      ],
      "execution_count": null,
      "outputs": []
    },
    {
      "cell_type": "code",
      "metadata": {
        "id": "3LGKtvvMHjfc",
        "colab_type": "code",
        "colab": {
          "base_uri": "https://localhost:8080/",
          "height": 34
        },
        "outputId": "97cbdd53-ede3-40a3-cab0-58730af8467f"
      },
      "source": [
        "type(d)"
      ],
      "execution_count": null,
      "outputs": [
        {
          "output_type": "execute_result",
          "data": {
            "text/plain": [
              "str"
            ]
          },
          "metadata": {
            "tags": []
          },
          "execution_count": 19
        }
      ]
    },
    {
      "cell_type": "code",
      "metadata": {
        "id": "PWE-DuaRHkiT",
        "colab_type": "code",
        "colab": {}
      },
      "source": [
        "e = \"R\""
      ],
      "execution_count": null,
      "outputs": []
    },
    {
      "cell_type": "code",
      "metadata": {
        "id": "TAOsi5EWHpQp",
        "colab_type": "code",
        "colab": {
          "base_uri": "https://localhost:8080/",
          "height": 34
        },
        "outputId": "b469899f-246d-4536-9e3f-f505b10849f1"
      },
      "source": [
        "type(e)"
      ],
      "execution_count": null,
      "outputs": [
        {
          "output_type": "execute_result",
          "data": {
            "text/plain": [
              "str"
            ]
          },
          "metadata": {
            "tags": []
          },
          "execution_count": 21
        }
      ]
    },
    {
      "cell_type": "code",
      "metadata": {
        "id": "nLUlzwEAHqWR",
        "colab_type": "code",
        "colab": {}
      },
      "source": [
        "f = \"Robin\""
      ],
      "execution_count": null,
      "outputs": []
    },
    {
      "cell_type": "code",
      "metadata": {
        "id": "rDpVVxTuHthR",
        "colab_type": "code",
        "colab": {
          "base_uri": "https://localhost:8080/",
          "height": 34
        },
        "outputId": "a66502a2-5fbf-4e15-f3d0-f4c1ac26ba7b"
      },
      "source": [
        "type(f)"
      ],
      "execution_count": null,
      "outputs": [
        {
          "output_type": "execute_result",
          "data": {
            "text/plain": [
              "str"
            ]
          },
          "metadata": {
            "tags": []
          },
          "execution_count": 23
        }
      ]
    },
    {
      "cell_type": "code",
      "metadata": {
        "id": "83grknkdHuuP",
        "colab_type": "code",
        "colab": {}
      },
      "source": [
        "g = \"Python is a interesting programming language\""
      ],
      "execution_count": null,
      "outputs": []
    },
    {
      "cell_type": "code",
      "metadata": {
        "id": "--tZbQMvHyi8",
        "colab_type": "code",
        "colab": {
          "base_uri": "https://localhost:8080/",
          "height": 34
        },
        "outputId": "3e2dbe74-5748-4fd2-d157-bb0470635439"
      },
      "source": [
        "type(g)"
      ],
      "execution_count": null,
      "outputs": [
        {
          "output_type": "execute_result",
          "data": {
            "text/plain": [
              "str"
            ]
          },
          "metadata": {
            "tags": []
          },
          "execution_count": 25
        }
      ]
    },
    {
      "cell_type": "code",
      "metadata": {
        "id": "i8MkMEjLHzsH",
        "colab_type": "code",
        "colab": {}
      },
      "source": [
        "h = \"False\""
      ],
      "execution_count": null,
      "outputs": []
    },
    {
      "cell_type": "code",
      "metadata": {
        "id": "XRXeuYt4H1zs",
        "colab_type": "code",
        "colab": {
          "base_uri": "https://localhost:8080/",
          "height": 34
        },
        "outputId": "954d2033-4fad-4129-d000-d946d8252a31"
      },
      "source": [
        "type(h)"
      ],
      "execution_count": null,
      "outputs": [
        {
          "output_type": "execute_result",
          "data": {
            "text/plain": [
              "str"
            ]
          },
          "metadata": {
            "tags": []
          },
          "execution_count": 32
        }
      ]
    },
    {
      "cell_type": "code",
      "metadata": {
        "id": "oE1LmC_4H3T2",
        "colab_type": "code",
        "colab": {
          "base_uri": "https://localhost:8080/",
          "height": 34
        },
        "outputId": "6185c293-7fb8-4dfe-cbb2-fb5206b77b01"
      },
      "source": [
        "a"
      ],
      "execution_count": null,
      "outputs": [
        {
          "output_type": "execute_result",
          "data": {
            "text/plain": [
              "10"
            ]
          },
          "metadata": {
            "tags": []
          },
          "execution_count": 33
        }
      ]
    },
    {
      "cell_type": "code",
      "metadata": {
        "id": "cGS7wncDIDAB",
        "colab_type": "code",
        "colab": {
          "base_uri": "https://localhost:8080/",
          "height": 34
        },
        "outputId": "eb5284d4-fec0-46c4-ad55-7aceb516daf4"
      },
      "source": [
        "a%2"
      ],
      "execution_count": null,
      "outputs": [
        {
          "output_type": "execute_result",
          "data": {
            "text/plain": [
              "0"
            ]
          },
          "metadata": {
            "tags": []
          },
          "execution_count": 34
        }
      ]
    },
    {
      "cell_type": "code",
      "metadata": {
        "id": "VjqhjyNXIEPS",
        "colab_type": "code",
        "colab": {
          "base_uri": "https://localhost:8080/",
          "height": 34
        },
        "outputId": "d797d11b-bb43-4027-bf81-1b56255a7453"
      },
      "source": [
        "a%3"
      ],
      "execution_count": null,
      "outputs": [
        {
          "output_type": "execute_result",
          "data": {
            "text/plain": [
              "1"
            ]
          },
          "metadata": {
            "tags": []
          },
          "execution_count": 35
        }
      ]
    },
    {
      "cell_type": "code",
      "metadata": {
        "id": "AAq4KarpIGTF",
        "colab_type": "code",
        "colab": {
          "base_uri": "https://localhost:8080/",
          "height": 34
        },
        "outputId": "c2a7ec32-4d0f-40e3-bed3-3d1d398d6d36"
      },
      "source": [
        "if a%2: \n",
        "  print(\"Yes\")\n",
        "else:\n",
        "  print(\"No\")"
      ],
      "execution_count": null,
      "outputs": [
        {
          "output_type": "stream",
          "text": [
            "No\n"
          ],
          "name": "stdout"
        }
      ]
    },
    {
      "cell_type": "code",
      "metadata": {
        "id": "V26sqsVWINNx",
        "colab_type": "code",
        "colab": {}
      },
      "source": [
        "students = [\"Robin\", \"Jack\", \"Sam\", \"tino\",\"\"]"
      ],
      "execution_count": null,
      "outputs": []
    },
    {
      "cell_type": "code",
      "metadata": {
        "id": "tNm2lc7JIYlx",
        "colab_type": "code",
        "colab": {
          "base_uri": "https://localhost:8080/",
          "height": 35
        },
        "outputId": "fe393330-a895-44f6-cea9-ffdb2e7feccb"
      },
      "source": [
        "students[4]"
      ],
      "execution_count": null,
      "outputs": [
        {
          "output_type": "execute_result",
          "data": {
            "application/vnd.google.colaboratory.intrinsic": {
              "type": "string"
            },
            "text/plain": [
              "''"
            ]
          },
          "metadata": {
            "tags": []
          },
          "execution_count": 44
        }
      ]
    },
    {
      "cell_type": "code",
      "metadata": {
        "id": "ytW1FC23IZdy",
        "colab_type": "code",
        "colab": {}
      },
      "source": [
        "students = [a, b, c, d, e, f]"
      ],
      "execution_count": null,
      "outputs": []
    },
    {
      "cell_type": "code",
      "metadata": {
        "id": "JE-j6OMkI653",
        "colab_type": "code",
        "colab": {}
      },
      "source": [
        "students[0] = 20"
      ],
      "execution_count": null,
      "outputs": []
    },
    {
      "cell_type": "code",
      "metadata": {
        "id": "epyK5I_dI77W",
        "colab_type": "code",
        "colab": {
          "base_uri": "https://localhost:8080/",
          "height": 34
        },
        "outputId": "537dfb0b-f6a2-4cbf-e8a7-ed0602cb2481"
      },
      "source": [
        "students"
      ],
      "execution_count": null,
      "outputs": [
        {
          "output_type": "execute_result",
          "data": {
            "text/plain": [
              "[20, 1.5, '10', '10', 'R', 'Robin']"
            ]
          },
          "metadata": {
            "tags": []
          },
          "execution_count": 48
        }
      ]
    },
    {
      "cell_type": "code",
      "metadata": {
        "id": "SQkJKndgJE2G",
        "colab_type": "code",
        "colab": {}
      },
      "source": [
        "students = (\"Robin\", \"Jack\", \"Smith\")"
      ],
      "execution_count": null,
      "outputs": []
    },
    {
      "cell_type": "code",
      "metadata": {
        "id": "lX73A4RfJWbu",
        "colab_type": "code",
        "colab": {}
      },
      "source": [
        "person = {\"name\": \"Robin\", \"class\": \"Data Science\"}"
      ],
      "execution_count": null,
      "outputs": []
    },
    {
      "cell_type": "code",
      "metadata": {
        "id": "VKIlnnNQJreW",
        "colab_type": "code",
        "colab": {
          "base_uri": "https://localhost:8080/",
          "height": 35
        },
        "outputId": "08de795e-623a-4a11-f3e8-a5e0211a7b6a"
      },
      "source": [
        "person[\"name\"]"
      ],
      "execution_count": null,
      "outputs": [
        {
          "output_type": "execute_result",
          "data": {
            "application/vnd.google.colaboratory.intrinsic": {
              "type": "string"
            },
            "text/plain": [
              "'Robin'"
            ]
          },
          "metadata": {
            "tags": []
          },
          "execution_count": 56
        }
      ]
    },
    {
      "cell_type": "code",
      "metadata": {
        "id": "eOPKEgvUJ1xX",
        "colab_type": "code",
        "colab": {
          "base_uri": "https://localhost:8080/",
          "height": 35
        },
        "outputId": "f163e866-9ea1-41b4-8e57-613ea830f67e"
      },
      "source": [
        "person[\"class\"]"
      ],
      "execution_count": null,
      "outputs": [
        {
          "output_type": "execute_result",
          "data": {
            "application/vnd.google.colaboratory.intrinsic": {
              "type": "string"
            },
            "text/plain": [
              "'Data Science'"
            ]
          },
          "metadata": {
            "tags": []
          },
          "execution_count": 57
        }
      ]
    },
    {
      "cell_type": "code",
      "metadata": {
        "id": "vV9QCPm9J3cp",
        "colab_type": "code",
        "colab": {
          "base_uri": "https://localhost:8080/",
          "height": 34
        },
        "outputId": "9677fc55-cfde-4714-dd9b-d940549bf093"
      },
      "source": [
        "type(a)"
      ],
      "execution_count": null,
      "outputs": [
        {
          "output_type": "execute_result",
          "data": {
            "text/plain": [
              "int"
            ]
          },
          "metadata": {
            "tags": []
          },
          "execution_count": 58
        }
      ]
    },
    {
      "cell_type": "code",
      "metadata": {
        "id": "jLR1X57qJ_Oj",
        "colab_type": "code",
        "colab": {}
      },
      "source": [
        "def sum(x, y):\n",
        "  print(x+y)"
      ],
      "execution_count": null,
      "outputs": []
    },
    {
      "cell_type": "code",
      "metadata": {
        "id": "EFOntSqXKUrO",
        "colab_type": "code",
        "colab": {
          "base_uri": "https://localhost:8080/",
          "height": 34
        },
        "outputId": "2bbdaba5-8dd4-4275-dd0e-80cfdeb567da"
      },
      "source": [
        "sum(10, 20)"
      ],
      "execution_count": null,
      "outputs": [
        {
          "output_type": "stream",
          "text": [
            "30\n"
          ],
          "name": "stdout"
        }
      ]
    },
    {
      "cell_type": "code",
      "metadata": {
        "id": "EyLgl940KWg3",
        "colab_type": "code",
        "colab": {
          "base_uri": "https://localhost:8080/",
          "height": 34
        },
        "outputId": "682f3144-5eb6-4419-87e8-8530a5554795"
      },
      "source": [
        "result = sum(10, 20)"
      ],
      "execution_count": null,
      "outputs": [
        {
          "output_type": "stream",
          "text": [
            "30\n"
          ],
          "name": "stdout"
        }
      ]
    },
    {
      "cell_type": "code",
      "metadata": {
        "id": "kJqF-O2cKbUY",
        "colab_type": "code",
        "colab": {}
      },
      "source": [
        "result"
      ],
      "execution_count": null,
      "outputs": []
    },
    {
      "cell_type": "code",
      "metadata": {
        "id": "6N9bk1wRKczz",
        "colab_type": "code",
        "colab": {}
      },
      "source": [
        "def sum(x, y):\n",
        "  return x+y"
      ],
      "execution_count": null,
      "outputs": []
    },
    {
      "cell_type": "code",
      "metadata": {
        "id": "8o1t0zIHKmKS",
        "colab_type": "code",
        "colab": {
          "base_uri": "https://localhost:8080/",
          "height": 34
        },
        "outputId": "12814c11-91a1-47b1-ba21-60afeaa0052b"
      },
      "source": [
        "sum(10, 20)"
      ],
      "execution_count": null,
      "outputs": [
        {
          "output_type": "execute_result",
          "data": {
            "text/plain": [
              "30"
            ]
          },
          "metadata": {
            "tags": []
          },
          "execution_count": 64
        }
      ]
    },
    {
      "cell_type": "code",
      "metadata": {
        "id": "Nrx1LCujKnZL",
        "colab_type": "code",
        "colab": {}
      },
      "source": [
        "result = sum(10, 20)"
      ],
      "execution_count": null,
      "outputs": []
    },
    {
      "cell_type": "code",
      "metadata": {
        "id": "rG8dOpPiKpXe",
        "colab_type": "code",
        "colab": {
          "base_uri": "https://localhost:8080/",
          "height": 34
        },
        "outputId": "498dfe13-0e77-4f72-9481-885ba4300e05"
      },
      "source": [
        "result"
      ],
      "execution_count": null,
      "outputs": [
        {
          "output_type": "execute_result",
          "data": {
            "text/plain": [
              "30"
            ]
          },
          "metadata": {
            "tags": []
          },
          "execution_count": 66
        }
      ]
    },
    {
      "cell_type": "code",
      "metadata": {
        "id": "wo-W4uT_KqPN",
        "colab_type": "code",
        "colab": {}
      },
      "source": [
        "from datetime import datetime, timedelta\n",
        "class Employee:\n",
        "\n",
        "  def __init__(self, fname, lname, gender, salary, dob):\n",
        "    self.fname = fname\n",
        "    self.lname = lname\n",
        "    self.gender = gender\n",
        "    self.salary = salary\n",
        "    self.dob = datetime.strptime(dob, \"%d/%m/%Y\")\n",
        "\n",
        "  def get_fullname(self):\n",
        "    return self.fname + ' ' + self.lname\n",
        "\n",
        "  def get_age(self):\n",
        "    today = datetime.now()\n",
        "    delta = today.year - self.dob.year\n",
        "    return delta\n",
        "  \n",
        "  def is_elder(self):\n",
        "    age = self.get_age()\n",
        "    if age > 45:\n",
        "      return True\n",
        "    else:\n",
        "      return False\n",
        "\n",
        "\n",
        "  def is_applicable_for_promo(self):\n",
        "    age = self.get_age()\n",
        "    salary = int(self.salary)\n",
        "\n",
        "    if age > 35 and salary < 25000:\n",
        "      return True\n",
        "    else:\n",
        "      return False"
      ],
      "execution_count": null,
      "outputs": []
    },
    {
      "cell_type": "code",
      "metadata": {
        "id": "UmoMCzD_Lt0w",
        "colab_type": "code",
        "colab": {}
      },
      "source": [
        "emp = Employee(\"Bastin\", \"Robin\", \"male\", \"25000\", \"05/01/1980\")"
      ],
      "execution_count": null,
      "outputs": []
    },
    {
      "cell_type": "code",
      "metadata": {
        "id": "NucL9AHtL5ji",
        "colab_type": "code",
        "colab": {
          "base_uri": "https://localhost:8080/",
          "height": 35
        },
        "outputId": "b51e1f6b-01ef-4786-b76a-dd9769ffd624"
      },
      "source": [
        "emp.get_fullname()"
      ],
      "execution_count": null,
      "outputs": [
        {
          "output_type": "execute_result",
          "data": {
            "application/vnd.google.colaboratory.intrinsic": {
              "type": "string"
            },
            "text/plain": [
              "'Bastin Robin'"
            ]
          },
          "metadata": {
            "tags": []
          },
          "execution_count": 99
        }
      ]
    },
    {
      "cell_type": "code",
      "metadata": {
        "id": "GJEu6q6kL-lR",
        "colab_type": "code",
        "colab": {
          "base_uri": "https://localhost:8080/",
          "height": 34
        },
        "outputId": "501476e0-2432-4100-faf4-19129041981b"
      },
      "source": [
        "emp.get_age()"
      ],
      "execution_count": null,
      "outputs": [
        {
          "output_type": "execute_result",
          "data": {
            "text/plain": [
              "40"
            ]
          },
          "metadata": {
            "tags": []
          },
          "execution_count": 100
        }
      ]
    },
    {
      "cell_type": "code",
      "metadata": {
        "id": "3p2tcf6AMccZ",
        "colab_type": "code",
        "colab": {
          "base_uri": "https://localhost:8080/",
          "height": 34
        },
        "outputId": "d019d3e4-72a3-44e2-c537-2956ee01d96d"
      },
      "source": [
        "emp.is_elder()"
      ],
      "execution_count": null,
      "outputs": [
        {
          "output_type": "execute_result",
          "data": {
            "text/plain": [
              "False"
            ]
          },
          "metadata": {
            "tags": []
          },
          "execution_count": 101
        }
      ]
    },
    {
      "cell_type": "code",
      "metadata": {
        "id": "IDyhhHFdNm-J",
        "colab_type": "code",
        "colab": {
          "base_uri": "https://localhost:8080/",
          "height": 34
        },
        "outputId": "bff09ba6-58c0-4a3e-c0ee-dff404a7078f"
      },
      "source": [
        "emp.is_applicable_for_promo()"
      ],
      "execution_count": null,
      "outputs": [
        {
          "output_type": "execute_result",
          "data": {
            "text/plain": [
              "False"
            ]
          },
          "metadata": {
            "tags": []
          },
          "execution_count": 102
        }
      ]
    },
    {
      "cell_type": "code",
      "metadata": {
        "id": "J-bceISHOJh5",
        "colab_type": "code",
        "colab": {}
      },
      "source": [
        "employees = [\n",
        "\t(\"Mike\", \"A\", \"male\", 25000, \"01/05/1982\", \"20/01/2018\"),\n",
        "\t(\"Jack\", \"M\", \"male\", 35000, \"01/05/1983\", \"05/05/2016\"),\n",
        "\t(\"Tom\", \"Smith\", \"male\", 26000, \"01/05/1984\", \"10/06/2018\"),\n",
        "\t(\"Niki\", \"Smith\", \"female\", 45000, \"01/05/1952\", \"10/01/2018\"),\n",
        "\t(\"John\", \"Walker\", \"male\", 35000, \"01/05/1986\", \"20/01/2018\"),\n",
        "\t(\"Suresh\", \"Kumar\", \"male\", 45000, \"01/05/1987\", \"20/01/2018\"),\n",
        "\t(\"Danny\", \"Harvey\", \"female\", 55000, \"01/05/1981\", \"20/01/2016\"),\n",
        "\t(\"Peter\", \"Parker\", \"male\", 35000, \"01/05/1988\", \"05/01/2020\"),\n",
        "\t(\"Antony\", \"Davis\", \"male\", 30000, \"01/05/1982\", \"05/01/2020\"),\n",
        "\t(\"Sameera\", \"R\", \"female\", 21000, \"01/05/1982\", \"20/01/2018\"),\n",
        "\t(\"Kim\", \"Peterson\", \"female\", 21000, \"01/05/1990\", \"20/01/2020\"),\n",
        "\t(\"Mathew\", \"Tim\", \"male\", 35000, \"01/05/1992\", \"20/01/2018\"),\n",
        "\t(\"Robert\", \"Smith\", \"male\", 25000, \"01/05/1992\", \"20/01/2018\")\n",
        "]"
      ],
      "execution_count": null,
      "outputs": []
    },
    {
      "cell_type": "code",
      "metadata": {
        "id": "OGJljNz_OQKd",
        "colab_type": "code",
        "colab": {}
      },
      "source": [
        "list_of_all = []\n",
        "\n",
        "for fname, lname, gender, salary, dob, joined_on in employees:\n",
        "  emp = Employee(fname, lname, gender, salary, dob)\n",
        "  list_of_all.append(emp)"
      ],
      "execution_count": null,
      "outputs": []
    },
    {
      "cell_type": "code",
      "metadata": {
        "id": "lqi1Hbx8Oplz",
        "colab_type": "code",
        "colab": {
          "base_uri": "https://localhost:8080/",
          "height": 240
        },
        "outputId": "7df163c5-d5e4-4e1d-c62c-33aae6d5774b"
      },
      "source": [
        "list_of_all"
      ],
      "execution_count": null,
      "outputs": [
        {
          "output_type": "execute_result",
          "data": {
            "text/plain": [
              "[<__main__.Employee at 0x7fc7ab7c7160>,\n",
              " <__main__.Employee at 0x7fc7ab7c7358>,\n",
              " <__main__.Employee at 0x7fc7ab7c7320>,\n",
              " <__main__.Employee at 0x7fc7ab7c7470>,\n",
              " <__main__.Employee at 0x7fc7ab7c72b0>,\n",
              " <__main__.Employee at 0x7fc7ab7c7278>,\n",
              " <__main__.Employee at 0x7fc7ab7c7128>,\n",
              " <__main__.Employee at 0x7fc7ab7c7438>,\n",
              " <__main__.Employee at 0x7fc7ab7c72e8>,\n",
              " <__main__.Employee at 0x7fc7ab7c7518>,\n",
              " <__main__.Employee at 0x7fc7ab7c7e48>,\n",
              " <__main__.Employee at 0x7fc7ab7c7780>,\n",
              " <__main__.Employee at 0x7fc7ab7bb588>]"
            ]
          },
          "metadata": {
            "tags": []
          },
          "execution_count": 105
        }
      ]
    },
    {
      "cell_type": "code",
      "metadata": {
        "id": "zDF16EZlOrYE",
        "colab_type": "code",
        "colab": {
          "base_uri": "https://localhost:8080/",
          "height": 240
        },
        "outputId": "4d6b90e6-9de5-4b95-ca87-1322b9a90db3"
      },
      "source": [
        "for person in list_of_all:\n",
        "  print(person.get_fullname(), person.get_age(), person.is_applicable_for_promo())"
      ],
      "execution_count": null,
      "outputs": [
        {
          "output_type": "stream",
          "text": [
            "Mike A 38 False\n",
            "Jack M 37 False\n",
            "Tom Smith 36 False\n",
            "Niki Smith 68 False\n",
            "John Walker 34 False\n",
            "Suresh Kumar 33 False\n",
            "Danny Harvey 39 False\n",
            "Peter Parker 32 False\n",
            "Antony Davis 38 False\n",
            "Sameera R 38 True\n",
            "Kim Peterson 30 False\n",
            "Mathew Tim 28 False\n",
            "Robert Smith 28 False\n"
          ],
          "name": "stdout"
        }
      ]
    },
    {
      "cell_type": "code",
      "metadata": {
        "id": "zEWau28gO0Wz",
        "colab_type": "code",
        "colab": {}
      },
      "source": [
        ""
      ],
      "execution_count": null,
      "outputs": []
    }
  ]
}